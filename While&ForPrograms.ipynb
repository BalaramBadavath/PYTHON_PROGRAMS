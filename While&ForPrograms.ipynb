{
 "cells": [
  {
   "cell_type": "code",
   "execution_count": null,
   "metadata": {},
   "outputs": [],
   "source": [
    "print(\"start\")\n",
    "def add(x,y):\n",
    "    z=x+y\n",
    "    print(z)\n",
    "add(100,200)\n",
    "print(\"stop\")"
   ]
  },
  {
   "cell_type": "code",
   "execution_count": 5,
   "metadata": {},
   "outputs": [],
   "source": [
    "#1 Wap to print all the present in the string between the range from m to n\n",
    "st=\"String are present\"\n",
    "r=eval(input(\"enter a string:\"))\n",
    "for i in range(0,len(st)+1):\n",
    "    if r==i:\n",
    "      print(r)"
   ]
  },
  {
   "cell_type": "code",
   "execution_count": 6,
   "metadata": {},
   "outputs": [
    {
     "name": "stdout",
     "output_type": "stream",
     "text": [
      "S Q L I O R "
     ]
    }
   ],
   "source": [
    "#2 Wap to print the uppercase characters in a given string:\n",
    "\n",
    "st='SQL Is hard OR not'\n",
    "for i in st:\n",
    "    if 'A'<=i<='Z':\n",
    "        print(i,end=' ')"
   ]
  },
  {
   "cell_type": "code",
   "execution_count": 7,
   "metadata": {},
   "outputs": [
    {
     "name": "stdout",
     "output_type": "stream",
     "text": [
      "y p i d e r "
     ]
    }
   ],
   "source": [
    "#3 Wap to print the lowercase characters in given string:\n",
    "\n",
    "st='PySpiderS QSP JSP'\n",
    "for i in st:\n",
    "    if 'a'<=i<='z':\n",
    "        print(i,end=' ')"
   ]
  },
  {
   "cell_type": "code",
   "execution_count": 12,
   "metadata": {},
   "outputs": [
    {
     "name": "stdout",
     "output_type": "stream",
     "text": [
      "1 2 3 "
     ]
    }
   ],
   "source": [
    "#4 WAP to print the ascii numbers(Digits) characters in a given string:\n",
    "st='1PySpiderS 2QSP 3JSP'\n",
    "for i in st:\n",
    "    if '0'<=i<='9':\n",
    "        print(i,end=' ')"
   ]
  },
  {
   "cell_type": "code",
   "execution_count": 20,
   "metadata": {},
   "outputs": [
    {
     "name": "stdout",
     "output_type": "stream",
     "text": [
      "* & # @ "
     ]
    }
   ],
   "source": [
    "#5 WAP to print the special characters in a given string:\n",
    "st='1PySpiderS*2QSP&#3JSP@'\n",
    "for i in st:\n",
    "    if not ('0'<=i<='9' or 'a'<=i<='z' or 'A'<=i<='Z'):\n",
    "        print(i,end=' ')"
   ]
  },
  {
   "cell_type": "code",
   "execution_count": 21,
   "metadata": {},
   "outputs": [
    {
     "name": "stdout",
     "output_type": "stream",
     "text": [
      "i e "
     ]
    }
   ],
   "source": [
    "#6 WAP to Print the vowels in a given string:\n",
    "st='PySpiderS QSP JSP'\n",
    "for i in st:\n",
    "    if 'a'<=i<='z' or 'A'<=i<='Z':\n",
    "        if i in 'aeiouAEIOU':\n",
    "          print(i,end=' ')"
   ]
  },
  {
   "cell_type": "code",
   "execution_count": 22,
   "metadata": {},
   "outputs": [
    {
     "name": "stdout",
     "output_type": "stream",
     "text": [
      "P y S p d r S Q S P J S P "
     ]
    }
   ],
   "source": [
    "#7 WAP to Print the consonants in a given string:\n",
    "st='PySpiderS QSP JSP'\n",
    "for i in st:\n",
    "    if 'a'<=i<='z' or 'A'<=i<='Z':\n",
    "        if i not in 'aeiouAEIOU':\n",
    "          print(i,end=' ')"
   ]
  },
  {
   "cell_type": "code",
   "execution_count": 11,
   "metadata": {},
   "outputs": [
    {
     "name": "stdout",
     "output_type": "stream",
     "text": [
      "PSJ PSQ SredipSyP\n"
     ]
    }
   ],
   "source": [
    "#8 WAP to print the reverse of the characters in a given string:\n",
    "st='PySpiderS QSP JSP'\n",
    "s=''\n",
    "for i in st:\n",
    "    s=i+s\n",
    "print(s)"
   ]
  },
  {
   "cell_type": "code",
   "execution_count": 26,
   "metadata": {},
   "outputs": [],
   "source": [
    "#9 WAP to print even position values characters in a given string:\n",
    "st='PySpiderS QSP JSP'\n",
    "for i in st:\n",
    "    if len(i)%2==0:\n",
    "        print(i)\n"
   ]
  },
  {
   "cell_type": "code",
   "execution_count": 28,
   "metadata": {},
   "outputs": [
    {
     "name": "stdout",
     "output_type": "stream",
     "text": [
      "P y S p i d e r S   Q S P   J S P "
     ]
    }
   ],
   "source": [
    "#10 WAP to print odd position values characters in a given string:\n",
    "st='PySpiderS QSP JSP'\n",
    "for i in st:\n",
    "    if len(i)%2!=0:\n",
    "        print(i,end=' ')\n"
   ]
  },
  {
   "cell_type": "code",
   "execution_count": 12,
   "metadata": {},
   "outputs": [
    {
     "name": "stdout",
     "output_type": "stream",
     "text": [
      "27\n"
     ]
    }
   ],
   "source": [
    "#11 WAP to count the total Number of characters in a given string.(with length function):\n",
    "st='String is present in python'\n",
    "count=0\n",
    "for i in st:\n",
    "    count+=1\n",
    "print(count)\n"
   ]
  },
  {
   "cell_type": "code",
   "execution_count": 15,
   "metadata": {},
   "outputs": [
    {
     "name": "stdout",
     "output_type": "stream",
     "text": [
      "23\n"
     ]
    }
   ],
   "source": [
    "#12 WAP to count the total Number of characters in a given string.(without length function):\n",
    "st='String is present in python'\n",
    "count=0\n",
    "for i in st:\n",
    "     if 'a'<=i<='z' or 'A'<=i<='Z':\n",
    "          count+=1\n",
    "print(count)\n"
   ]
  },
  {
   "cell_type": "code",
   "execution_count": 43,
   "metadata": {},
   "outputs": [
    {
     "name": "stdout",
     "output_type": "stream",
     "text": [
      "28\n"
     ]
    }
   ],
   "source": [
    "#13 WAP to count alphabets in a given string:\n",
    "st='Strings are present in the python'\n",
    "count=0\n",
    "for i in st:\n",
    "    if 'A'<=i<='Z' or 'a'<=i<='z':\n",
    "        count+=1\n",
    "print(count)"
   ]
  },
  {
   "cell_type": "code",
   "execution_count": 44,
   "metadata": {},
   "outputs": [
    {
     "name": "stdout",
     "output_type": "stream",
     "text": [
      "11\n"
     ]
    }
   ],
   "source": [
    "#14 WAP to count Number of uppercase in a given string:\n",
    "st='Strings Are Present In The PYTHON'\n",
    "count=0\n",
    "for i in st:\n",
    "    if 'A'<=i<='Z':\n",
    "        count+=1\n",
    "print(count)"
   ]
  },
  {
   "cell_type": "code",
   "execution_count": 45,
   "metadata": {},
   "outputs": [
    {
     "name": "stdout",
     "output_type": "stream",
     "text": [
      "17\n"
     ]
    }
   ],
   "source": [
    "#15 WAP to count lowercase in a given string:\n",
    "st='Strings Are Present In The PYTHON'\n",
    "count=0\n",
    "for i in st:\n",
    "    if 'a'<=i<='z':\n",
    "        count+=1\n",
    "print(count)"
   ]
  },
  {
   "cell_type": "code",
   "execution_count": 47,
   "metadata": {},
   "outputs": [
    {
     "name": "stdout",
     "output_type": "stream",
     "text": [
      "5\n"
     ]
    }
   ],
   "source": [
    "#16 WAP to count Number of special symbols in a given string:\n",
    "st='Strings@Are&Present$In^The*PYTHON'\n",
    "count=0\n",
    "for i in st:\n",
    "    if not ('a'<=i<='z' or 'A'<=i<='Z' or '0'<=i<='9'):\n",
    "        count+=1\n",
    "print(count)"
   ]
  },
  {
   "cell_type": "code",
   "execution_count": 48,
   "metadata": {},
   "outputs": [
    {
     "name": "stdout",
     "output_type": "stream",
     "text": [
      "28\n"
     ]
    }
   ],
   "source": [
    "#17 WAP to count uppercase and lowercase in a given string:\n",
    "st='Strings@Are&Present$In^The*PYTHON'\n",
    "count=0\n",
    "for i in st:\n",
    "    if 'a'<=i<='z' or 'A'<=i<='Z':\n",
    "        count+=1\n",
    "print(count)"
   ]
  },
  {
   "cell_type": "code",
   "execution_count": 49,
   "metadata": {},
   "outputs": [
    {
     "name": "stdout",
     "output_type": "stream",
     "text": [
      "6\n"
     ]
    }
   ],
   "source": [
    "#18 WAP to count Number of ascii numbers in a given string:\n",
    "st='1Strings2@Are&3Present$4In^5The*6PYTHON'\n",
    "count=0\n",
    "for i in st:\n",
    "    if '0'<=i<='9':\n",
    "        count+=1\n",
    "print(count)"
   ]
  },
  {
   "cell_type": "code",
   "execution_count": 1,
   "metadata": {},
   "outputs": [
    {
     "name": "stdout",
     "output_type": "stream",
     "text": [
      "28\n"
     ]
    }
   ],
   "source": [
    "#19 WAP to Count Total Number of Words in a String:\n",
    "st='Strings@Are&Present$In^The*PYTHON'\n",
    "count=0\n",
    "for i in st:\n",
    "    if 'a'<=i<='z' or 'A'<=i<='Z':\n",
    "        count+=1\n",
    "print(count)"
   ]
  },
  {
   "cell_type": "code",
   "execution_count": 3,
   "metadata": {},
   "outputs": [
    {
     "name": "stdout",
     "output_type": "stream",
     "text": [
      "4\n"
     ]
    }
   ],
   "source": [
    "#20 WAP to Count Total Number of spaces in a String:\n",
    "st='Strings are present in python'\n",
    "count=0\n",
    "for i in st:\n",
    "    if ' ' in i:\n",
    "        count+=1\n",
    "print(count)"
   ]
  },
  {
   "cell_type": "code",
   "execution_count": 5,
   "metadata": {},
   "outputs": [
    {
     "name": "stdout",
     "output_type": "stream",
     "text": [
      "6\n"
     ]
    }
   ],
   "source": [
    "#21 WAP to Count Vowels in a String:\n",
    "st='String is present in PYTHON'\n",
    "count=0\n",
    "for i in st:\n",
    "    if i in 'aeiouAEIOU':\n",
    "        count+=1\n",
    "print(count)"
   ]
  },
  {
   "cell_type": "code",
   "execution_count": 6,
   "metadata": {},
   "outputs": [
    {
     "name": "stdout",
     "output_type": "stream",
     "text": [
      "21\n"
     ]
    }
   ],
   "source": [
    "#22  WAP to Count consonants in a String:\n",
    "st='String is present in PYTHON'\n",
    "count=0\n",
    "for i in st:\n",
    "    if i not in 'aeiouAEIOU':\n",
    "        count+=1\n",
    "print(count)"
   ]
  },
  {
   "cell_type": "code",
   "execution_count": 11,
   "metadata": {},
   "outputs": [
    {
     "name": "stdout",
     "output_type": "stream",
     "text": [
      "[6, 21]\n"
     ]
    }
   ],
   "source": [
    "#23 WAP to Count Vowels and Consonants in a String:\n",
    "st='String is present in PYTHON'\n",
    "count=0\n",
    "count1=0\n",
    "for i in st:\n",
    "    if i in 'aeiouAEIOU':\n",
    "        count+=1\n",
    "    if i not in 'aeiouAEIOU':\n",
    "        count1+=1\n",
    "print([count,count1])"
   ]
  },
  {
   "cell_type": "code",
   "execution_count": 15,
   "metadata": {},
   "outputs": [
    {
     "name": "stdout",
     "output_type": "stream",
     "text": [
      "String are present in python \n",
      "List also present in python and \n",
      "Set & dict are mapping data type"
     ]
    }
   ],
   "source": [
    "#24 WAP to count Number of new lines in a given string:\n",
    "st='''String are present in python \n",
    "List also present in python and \n",
    "Set & dict are mapping data type'''\n",
    "for i in st:\n",
    "    print(i,end='')"
   ]
  },
  {
   "cell_type": "code",
   "execution_count": 1,
   "metadata": {},
   "outputs": [
    {
     "name": "stdout",
     "output_type": "stream",
     "text": [
      "2\n"
     ]
    }
   ],
   "source": [
    "#25 WAP to count Number of new lines in a given string:\n",
    "st='''1String! 2are@ 3present# 4In 5Python \n",
    "6List 7also 8Present 8in 9Python ^0and \n",
    "11Set 12& 13Dict 14are 15Mapping *16Data 17Type'''\n",
    "count=0\n",
    "for i in st:\n",
    "    if chr(10)==i:\n",
    "        count+=1\n",
    "print(count)"
   ]
  },
  {
   "cell_type": "code",
   "execution_count": 31,
   "metadata": {},
   "outputs": [
    {
     "name": "stdout",
     "output_type": "stream",
     "text": [
      "3\n"
     ]
    }
   ],
   "source": [
    "#26 WAP to count Number of lines in a given string:\n",
    "st='''1String! 2are@ 3present# 4In 5Python \n",
    "6List 7also 8Present 8in 9Python ^0and \n",
    "11Set 12& 13Dict 14are 15Mapping *16Data 17Type'''\n",
    "count=1\n",
    "for i in st:\n",
    "    if chr(10)==i:\n",
    "        count+=1\n",
    "print(count)"
   ]
  },
  {
   "cell_type": "code",
   "execution_count": 18,
   "metadata": {},
   "outputs": [
    {
     "name": "stdout",
     "output_type": "stream",
     "text": [
      "75 25 25 "
     ]
    }
   ],
   "source": [
    "#27 WAP to count no of alphabets, numbers, and special characters in a given string:\n",
    "st='''1String! 2are@ 3present# 4In 5Python \n",
    "6List 7also 8Present 8in 9Python ^0and \n",
    "11Set 12& 13Dict 14are 15Mapping *16Data 17Type'''\n",
    "alpha=0\n",
    "num=0\n",
    "spl=0\n",
    "for i in st:\n",
    "    if 'a'<=i<='z' or 'A'<=i<='Z':\n",
    "        alpha+=1\n",
    "    if '0'<=i<='9':\n",
    "        num+=1\n",
    "    if not('a'<=i<='z' or 'A'<=i<='Z' or '0'<=i<='9'):\n",
    "        spl+=1\n",
    "print(alpha,num,spl,end=' ')"
   ]
  },
  {
   "cell_type": "code",
   "execution_count": null,
   "metadata": {},
   "outputs": [],
   "source": []
  },
  {
   "cell_type": "code",
   "execution_count": 2,
   "metadata": {},
   "outputs": [
    {
     "name": "stdout",
     "output_type": "stream",
     "text": [
      "40\n"
     ]
    }
   ],
   "source": [
    "#28 WAP to Count Total no of words in a first line of the Doc String:\n",
    "st='''1String! 2are@ 3present# 4In 5Python\n",
    "6List 7also 8Present 8in 9Python ^0and \n",
    "11Set 12& 13Dict 14are 15Mapping *16Data 17Type'''\n",
    "count=0\n",
    "alpha=''\n",
    "num=0\n",
    "spl=0\n",
    "for i in st:\n",
    "      alpha+=i\n",
    "      if chr(10)==i:\n",
    "          count+=1\n",
    "      if count==1:\n",
    "           num+=1\n",
    "print(num)\n",
    "        \n",
    "        "
   ]
  },
  {
   "cell_type": "code",
   "execution_count": 3,
   "metadata": {},
   "outputs": [
    {
     "name": "stdout",
     "output_type": "stream",
     "text": [
      "59\n"
     ]
    }
   ],
   "source": [
    "#29 WAP to sum of digits in a given string:\n",
    "st='''1String! 2are@ 3present# 4In 5Python \n",
    "6List also Present in Python ^and \n",
    "10Set 18& 19Dict 17are 15Mapping *12Data 11Type'''\n",
    "sum1=0\n",
    "for i in st:\n",
    "    if '1'<=i<='9':\n",
    "        sum1+=int(i)\n",
    "print(sum1)"
   ]
  },
  {
   "cell_type": "code",
   "execution_count": null,
   "metadata": {},
   "outputs": [
    {
     "name": "stdout",
     "output_type": "stream",
     "text": [
      "s 0\n",
      "t 1\n"
     ]
    }
   ],
   "source": [
    "#30 WAP to Print First Occurrence of a Character in a String:\n",
    "st='strings are present'\n",
    "n='st'\n",
    "for i in range(0,len(n)):\n",
    "    for j in range(0,len(st)):\n",
    "     if n[i]==st[j]:\n",
    "        print(st[i],j)\n",
    "        break\n",
    "    "
   ]
  },
  {
   "cell_type": "code",
   "execution_count": null,
   "metadata": {},
   "outputs": [
    {
     "name": "stdout",
     "output_type": "stream",
     "text": [
      "t -1\n",
      "s 0\n",
      "t -1\n"
     ]
    }
   ],
   "source": [
    "#31 Wap to print last occurance of a charater in a string:\n",
    "st='strings are present'\n",
    "n='s'\n",
    "for i in range(-1,len(n)):\n",
    "    for j in range(-1,len(st)):\n",
    "        if n[i]==st[j]:\n",
    "            print(st[i],j)\n",
    "            break"
   ]
  },
  {
   "cell_type": "code",
   "execution_count": 36,
   "metadata": {},
   "outputs": [
    {
     "name": "stdout",
     "output_type": "stream",
     "text": [
      "{'H': 1, 'e': 1, 'l': 3, 'o': 2, ' ': 1, 'W': 1, 'r': 1, 'd': 1}\n",
      "l 3\n"
     ]
    }
   ],
   "source": [
    "# Maximum Occurance of char in given string:\n",
    "st=\"Hello World\"\n",
    "d={}\n",
    "for i in st:\n",
    "    if i not in d:\n",
    "        d[i]=1\n",
    "    else:\n",
    "        d[i]+=1\n",
    "print(d)\n",
    "max=0\n",
    "ch=None\n",
    "for j in d:\n",
    "    if max<d[j]:\n",
    "        max=d[j]\n",
    "        ch=j\n",
    "print(ch,max)\n"
   ]
  },
  {
   "cell_type": "code",
   "execution_count": 46,
   "metadata": {},
   "outputs": [
    {
     "name": "stdout",
     "output_type": "stream",
     "text": [
      "{'H': 1, 'e': 1, 'l': 3, 'o': 2, ' ': 1, 'W': 1, 'r': 1, 'd': 1}\n",
      "H 1\n"
     ]
    }
   ],
   "source": [
    "# Minimum Occurance of char in given string:\n",
    "st=\"Hello World\"\n",
    "d={}\n",
    "for i in st:\n",
    "    if i not in d:\n",
    "        d[i]=1\n",
    "    else:\n",
    "        d[i]+=1\n",
    "print(d)\n",
    "min=len(st)\n",
    "u=[]\n",
    "ch=None\n",
    "for j in d:\n",
    "    if min>d[j]:\n",
    "        min=d[j]\n",
    "        ch=j\n",
    "    else:\n",
    "        min==d[i]\n",
    "        u+=[[i,d[i]]]\n",
    "        u+=[[ch,min]]\n",
    "print(ch,min)"
   ]
  },
  {
   "cell_type": "code",
   "execution_count": null,
   "metadata": {},
   "outputs": [],
   "source": [
    "#32 WAP to Print First not Occurrence of a Character in a String:\n"
   ]
  },
  {
   "cell_type": "code",
   "execution_count": null,
   "metadata": {},
   "outputs": [],
   "source": [
    "#33 WAP to Print last not Occurrence of a Character in a String:\n"
   ]
  },
  {
   "cell_type": "code",
   "execution_count": null,
   "metadata": {},
   "outputs": [],
   "source": [
    "#34 WAP to Remove First Occurrence of a Character in a String:\n"
   ]
  },
  {
   "cell_type": "code",
   "execution_count": null,
   "metadata": {},
   "outputs": [],
   "source": [
    "#35 WAP to Remove Last Occurred Character in a String:\n"
   ]
  },
  {
   "cell_type": "code",
   "execution_count": null,
   "metadata": {},
   "outputs": [],
   "source": [
    "#36 WAP to count the occurrence of a specific character in a given string:\n",
    "st='strings are present'\n",
    "n='s'\n",
    "count=0\n",
    "for i in range(-1,len(n)):\n",
    "    for j in range(-1,len(st)):\n",
    "        if n[i]==st[j]:\n",
    "            print(st[i],j)\n",
    "    count+=1\n",
    "print(count)"
   ]
  },
  {
   "cell_type": "code",
   "execution_count": null,
   "metadata": {},
   "outputs": [],
   "source": [
    "#36 WAP to count the max occurrence of a character in a given string:\n",
    "st=\"Welcome to python programming\"\n",
    "d={}\n",
    "for i in st:\n",
    "    if i not in d:\n",
    "        d[i]=1\n",
    "    else:\n",
    "        d[i]=+1\n",
    "    print(d)\n",
    "max=3\n",
    "ch=None\n",
    "for i in d:\n",
    "    if max<=d[i]:\n",
    "        min=d[i]\n",
    "        ch+=i\n",
    "print(ch,max)"
   ]
  },
  {
   "cell_type": "code",
   "execution_count": 24,
   "metadata": {},
   "outputs": [
    {
     "name": "stdout",
     "output_type": "stream",
     "text": [
      "0\n"
     ]
    }
   ],
   "source": [
    "#37 WAP to count the min occurrence of a character in a given string:\n",
    "st=\"Welcome to python programming\"\n",
    "n=\"o\"\n",
    "count=0\n",
    "for i in st:\n",
    "    if n==i:\n",
    "        count+=1\n",
    "    print(count)\n",
    "    break"
   ]
  },
  {
   "cell_type": "code",
   "execution_count": 20,
   "metadata": {},
   "outputs": [
    {
     "name": "stdout",
     "output_type": "stream",
     "text": [
      "3\n"
     ]
    }
   ],
   "source": [
    "#38 WAP to count the repeats of a specific character in a given string:\n",
    "st=\"Welcome#topython@programming^\"\n",
    "count=0\n",
    "for i in st:\n",
    "    if not('a'<=i<'z' or 'A'<=i<='Z' or '0'<=i<='9'):\n",
    "        count+=1\n",
    "print(count)"
   ]
  },
  {
   "cell_type": "code",
   "execution_count": null,
   "metadata": {},
   "outputs": [],
   "source": [
    "#39 WAP to count the max repeated character in a given string:\n",
    "st=\"Welcome to python programming\"\n",
    "\n"
   ]
  },
  {
   "cell_type": "code",
   "execution_count": null,
   "metadata": {},
   "outputs": [],
   "source": [
    "#40 WAP to count the min repeated character in a given string:\n"
   ]
  },
  {
   "cell_type": "code",
   "execution_count": null,
   "metadata": {},
   "outputs": [],
   "source": [
    "#41 WAP to replace a specific character into a new character:\n"
   ]
  },
  {
   "cell_type": "code",
   "execution_count": 33,
   "metadata": {},
   "outputs": [
    {
     "name": "stdout",
     "output_type": "stream",
     "text": [
      "WELCOME TO PYHTHON PROGRAMMING\n"
     ]
    }
   ],
   "source": [
    "#42 WAP to convert lowercase to uppercase in a given string:\n",
    "st=\"Welcome to Pyhthon Programming\"\n",
    "res=''\n",
    "for i in range(0,len(st)):\n",
    "    if 'a'<=st[i]<='z':\n",
    "        res+=chr(ord(st[i])-32)\n",
    "    else:\n",
    "        res+=st[i]\n",
    "print(res)"
   ]
  },
  {
   "cell_type": "code",
   "execution_count": 35,
   "metadata": {},
   "outputs": [
    {
     "name": "stdout",
     "output_type": "stream",
     "text": [
      "welcome to pyhthon programming\n"
     ]
    }
   ],
   "source": [
    "#43 WAP to convert uppercase to lowercase in a given string:\n",
    "st=\"Welcome to Pyhthon Programming\"\n",
    "res=''\n",
    "for i in range(0,len(st)):\n",
    "    if 'A'<=st[i]<='Z':\n",
    "        res+=chr(ord(st[i])+32)\n",
    "    else:\n",
    "        res+=st[i]\n",
    "print(res)"
   ]
  },
  {
   "cell_type": "code",
   "execution_count": 6,
   "metadata": {},
   "outputs": [
    {
     "name": "stdout",
     "output_type": "stream",
     "text": [
      "wElCoMe tO PyThOn\n"
     ]
    }
   ],
   "source": [
    "#44 WAP to convert uppercase to lowercase in even position characters in a given string:\n",
    "st=\"WELCOME TO PYTHON\"\n",
    "r=''\n",
    "for i in range(0,len(st)):\n",
    "    if i%2==0:\n",
    "        if 'A'<=st[i]<='Z':\n",
    "            r+=chr(ord(st[i])+32)\n",
    "        else:\n",
    "             r+=st[i]\n",
    "    else:\n",
    "            r+=st[i]\n",
    "print(r)"
   ]
  },
  {
   "cell_type": "code",
   "execution_count": 8,
   "metadata": {},
   "outputs": [
    {
     "name": "stdout",
     "output_type": "stream",
     "text": [
      "WeLcOmE To pYtHoN\n"
     ]
    }
   ],
   "source": [
    "#45 WAP to convert uppercase to lowercase in odd position characters in a given string:\n",
    "st=\"WELCOME TO PYTHON\"\n",
    "r=''\n",
    "for i in range(0,len(st)):\n",
    "    if i%2==1:\n",
    "        if 'A'<=st[i]<='Z':\n",
    "            r+=chr(ord(st[i])+32)\n",
    "        else:\n",
    "            r+=st[i]\n",
    "    else:\n",
    "        r+=st[i]\n",
    "print(r)"
   ]
  },
  {
   "cell_type": "code",
   "execution_count": 13,
   "metadata": {},
   "outputs": [
    {
     "name": "stdout",
     "output_type": "stream",
     "text": [
      "1301515806208 Welcome @to #Python ^Programming\n",
      "1301515815392 wELCOME **TO **pYTHON **pROGRAMMING\n"
     ]
    }
   ],
   "source": [
    "#46 WAP to convert the uppercase letter to lowercase letter and lowercase letter to uppercase letter,\n",
    "#if the character is special symbol replace with * for the given input string:\n",
    "st=\"Welcome @to #Python ^Programming\"\n",
    "print(id(st),st)\n",
    "r=''\n",
    "for i in st:\n",
    "    if 'a'<=i<='z':\n",
    "        r+=chr(ord(i)-32)\n",
    "    if 'A'<=i<='Z':\n",
    "        r+=chr(ord(i)+32)\n",
    "    if ' '==i:\n",
    "        r+=' '\n",
    "    if not('a'<=i<='z' or 'A'<=i<='Z' or '0'<=i<='9'):\n",
    "        r+='*'\n",
    "print(id(r),r)"
   ]
  },
  {
   "cell_type": "code",
   "execution_count": 44,
   "metadata": {},
   "outputs": [
    {
     "data": {
      "text/plain": [
       "'Welcome Tto Ppython12233Iilu@##^^Iijk'"
      ]
     },
     "execution_count": 44,
     "metadata": {},
     "output_type": "execute_result"
    }
   ],
   "source": [
    "#47 WAP to convert title case in a given string:\n",
    "st=\"welcome to python123ilu@#^ijk\"\n",
    "def u_title(coll):\n",
    "    temp=0\n",
    "    res=''\n",
    "    if 'a'<=coll[0]<='z':\n",
    "        res+=chr(ord(coll[0])-32)\n",
    "        temp+=1\n",
    "    elif 'A'<=coll[0]<='Z':\n",
    "        res+=coll[0]\n",
    "        temp+=1\n",
    "    while temp<len(coll):\n",
    "        if not('a'<=coll[temp]<='z' or 'A'<=coll[temp]<='Z'):\n",
    "            res+=coll[temp]\n",
    "            if 'a'<=coll[temp+1]<='z':\n",
    "                res+=chr(ord(coll[temp+1])-32)\n",
    "            else:\n",
    "                res+=coll[temp+1]\n",
    "            temp+=1\n",
    "        elif 'A'<=coll[temp]<='Z':\n",
    "            res+=chr(ord(coll[temp])+32)\n",
    "        else:\n",
    "            res+=coll[temp]\n",
    "            temp+=1\n",
    "    return res\n",
    "u_title(st)"
   ]
  },
  {
   "cell_type": "code",
   "execution_count": 51,
   "metadata": {},
   "outputs": [
    {
     "name": "stdout",
     "output_type": "stream",
     "text": [
      "wWelcome@_to_#pPython_^pProgramming\n"
     ]
    }
   ],
   "source": [
    "#48 WAP to convert snake_case in a given string:\n",
    "st=\"Welcome@ to #Python ^Programming\"\n",
    "r=''\n",
    "for i in st:\n",
    "    if 'A'<=i<='Z':\n",
    "        r+=chr(ord(i)+32)\n",
    "    if i==' ':\n",
    "        r+='_'\n",
    "    else:\n",
    "        r+=i\n",
    "print(r)"
   ]
  },
  {
   "cell_type": "code",
   "execution_count": 37,
   "metadata": {},
   "outputs": [
    {
     "name": "stdout",
     "output_type": "stream",
     "text": [
      "pYTHON@# iS hIGH^& lEVEL lAGNGUAGE\n"
     ]
    }
   ],
   "source": [
    "#49 WAP to Toggle Characters Case in a String:\n",
    "st='Python@# Is High^& Level Lagnguage'\n",
    "r=''\n",
    "for i in st:\n",
    "    if 'A'<=i<='Z':\n",
    "        r+=chr(ord(i)+32)\n",
    "    else:\n",
    "        if 'a'<=i<='z':\n",
    "            r+=chr(ord(i)-32)\n",
    "        else:\n",
    "            r+=i\n",
    "print(r)"
   ]
  },
  {
   "cell_type": "code",
   "execution_count": 29,
   "metadata": {},
   "outputs": [
    {
     "name": "stdout",
     "output_type": "stream",
     "text": [
      "pyth111n 105s pr111gr97mm105ng l97ng11797g101\n"
     ]
    }
   ],
   "source": [
    "#50 WAP to replace vowels into ascii values in a given string.(both with and with temp variable):\n",
    "st='python is programming language'\n",
    "r=''\n",
    "for i in st: \n",
    "    if i in \"aieouAEIOU\":\n",
    "        r+=str(ord(i))\n",
    "    else:\n",
    "        r+=i\n",
    "print(r)"
   ]
  },
  {
   "cell_type": "code",
   "execution_count": 32,
   "metadata": {},
   "outputs": [
    {
     "name": "stdout",
     "output_type": "stream",
     "text": [
      "112121116104o110aioue\n"
     ]
    }
   ],
   "source": [
    "#51 WAP to replace consonants into ascii values in a given string. (both with and with temp variable):\n",
    "st='pythonaioue'\n",
    "r=''\n",
    "for i in st:\n",
    "    if i not in \"aeiouAEIOU\":\n",
    "        r+=str(ord(i))\n",
    "    else:\n",
    "        r+=i\n",
    "print(r)"
   ]
  },
  {
   "cell_type": "code",
   "execution_count": 34,
   "metadata": {},
   "outputs": [
    {
     "name": "stdout",
     "output_type": "stream",
     "text": [
      "p121t104o110 is32p114o103ram109i110g32lan103uage\n"
     ]
    }
   ],
   "source": [
    "#52 WAP to replace consonants to ascii values in odd position characters \n",
    "#in a given string.(both with and with temp variable)\n",
    "st='python is programming language'\n",
    "r=''\n",
    "for i in range(0,len(st)):\n",
    "    if st[i] not in \"aeiouAEIOU\" and i%2==1:\n",
    "        r+=str(ord(st[i]))\n",
    "    else:\n",
    "        r+=st[i]\n",
    "print(r)"
   ]
  },
  {
   "cell_type": "code",
   "execution_count": 39,
   "metadata": {},
   "outputs": [
    {
     "name": "stdout",
     "output_type": "stream",
     "text": [
      "pyth111n is pr111gramm105ng lang117age\n"
     ]
    }
   ],
   "source": [
    "#53 WAP to replace vowels to ascii values in even position characters in a given string.\n",
    "#(both with and with temp variable)\n",
    "st='python is programming language'\n",
    "r=''\n",
    "for i in range(0,len(st)):\n",
    "    if st[i] in \"aeiouAEIOU\" and i%2==0:\n",
    "        r+=str(ord(st[i]))\n",
    "    else:\n",
    "        r+=st[i]\n",
    "print(r)"
   ]
  },
  {
   "cell_type": "code",
   "execution_count": 41,
   "metadata": {},
   "outputs": [
    {
     "name": "stdout",
     "output_type": "stream",
     "text": [
      "Python-Programiming-Language\n"
     ]
    }
   ],
   "source": [
    "#54 WAP to Replace white Spaces with Hyphen in a String.(both with and with temp variable)\n",
    "st='Python Programiming Language'\n",
    "t=' '\n",
    "r=''\n",
    "for i in st:\n",
    "    if t==i:\n",
    "        r+='-'\n",
    "    else:\n",
    "        r+=i\n",
    "print(r)\n"
   ]
  },
  {
   "cell_type": "code",
   "execution_count": 42,
   "metadata": {},
   "outputs": [
    {
     "name": "stdout",
     "output_type": "stream",
     "text": [
      "Pto rgaiigLnug\n"
     ]
    }
   ],
   "source": [
    "#55 WAP to Remove Odd position Characters in a given String:\n",
    "st='Python Programiming Language'\n",
    "r=''\n",
    "for i in range(0,len(st)):\n",
    "    if i%2==0:\n",
    "        r+=st[i]\n",
    "print(r)"
   ]
  },
  {
   "cell_type": "code",
   "execution_count": 43,
   "metadata": {},
   "outputs": [
    {
     "name": "stdout",
     "output_type": "stream",
     "text": [
      "yhnPormmn agae\n"
     ]
    }
   ],
   "source": [
    "#56 WAP to Remove even position Characters in a given String:\n",
    "st='Python Programiming Language'\n",
    "r=''\n",
    "for i in range(0,len(st)):\n",
    "    if i%2==1:\n",
    "        r+=st[i]\n",
    "print(r)"
   ]
  },
  {
   "cell_type": "code",
   "execution_count": 44,
   "metadata": {},
   "outputs": [
    {
     "name": "stdout",
     "output_type": "stream",
     "text": [
      "1@ 2# ^&23\n"
     ]
    }
   ],
   "source": [
    "#57 WAP to Remove alphabets in a given String:\n",
    "st='1Python@ 2Programiming# ^&23Language'\n",
    "r=''\n",
    "for i in st:\n",
    "    if not('A'<=i<='Z' or 'a'<=i<='z'):\n",
    "        r+=i\n",
    "print(r)"
   ]
  },
  {
   "cell_type": "code",
   "execution_count": 45,
   "metadata": {},
   "outputs": [
    {
     "name": "stdout",
     "output_type": "stream",
     "text": [
      "Python@ Programiming# ^&Language\n"
     ]
    }
   ],
   "source": [
    "#58  WAP to Remove ascii numbers in a given String:\n",
    "st='1Python@ 2Programiming# ^&23Language'\n",
    "r=''\n",
    "for i in st:\n",
    "    if ('a'<=i<='z' or 'A'<=i<='Z'):\n",
    "        r+=i\n",
    "    elif not('a'<=i<='z' or 'A'<=i<='Z' or '0'<=i<='9'):\n",
    "        r+=i\n",
    "print(r)"
   ]
  },
  {
   "cell_type": "code",
   "execution_count": 47,
   "metadata": {},
   "outputs": [
    {
     "name": "stdout",
     "output_type": "stream",
     "text": [
      "1Python@ 2Programiming# ^&23Language\n"
     ]
    }
   ],
   "source": [
    "#59 WAP to Remove special characters in a given String:\n",
    "st='1Python@ 2Programiming# ^&23Language'\n",
    "r=''\n",
    "for i in st:\n",
    "    if ('a'<=i<='z' or 'A'<=i<='Z' or '0'<=i<='9' or ' '):\n",
    "        r+=i\n",
    "print(r)"
   ]
  },
  {
   "cell_type": "code",
   "execution_count": 56,
   "metadata": {},
   "outputs": [
    {
     "name": "stdout",
     "output_type": "stream",
     "text": [
      "palindrome\n",
      "[]\n",
      "0\n"
     ]
    }
   ],
   "source": [
    "#61 WAP to check if the given string is Palindrome or Not:\n",
    "st='abcdcba'\n",
    "if st[::]==st[::-1]:\n",
    "    print('palindrome')\n",
    "else:\n",
    "    print('Not palindrome')\n",
    "\n",
    "#WAP to check how many palindrome in given string:\n",
    "st='abcba12332155655leveldadxyyzyyx'\n",
    "r=[]\n",
    "res=''\n",
    "for start in range(0,len(st)):\n",
    "    for end in range(start+1,len(st)+1):\n",
    "        res+=st[start:end:1]\n",
    "        if len(res)>=3 and res==res[::-1]:\n",
    "            r+=[res]\n",
    "print(r)\n",
    "print(len(r))"
   ]
  },
  {
   "cell_type": "code",
   "execution_count": 58,
   "metadata": {},
   "outputs": [
    {
     "name": "stdout",
     "output_type": "stream",
     "text": [
      "Lowercase\n"
     ]
    }
   ],
   "source": [
    "#61 WAP to check whether the given string is lowercase or not:\n",
    "st='python'\n",
    "for i in st:\n",
    "    if 'A'<=i<='Z':\n",
    "        print('not lowercase')\n",
    "print('Lowercase')\n"
   ]
  },
  {
   "cell_type": "code",
   "execution_count": 63,
   "metadata": {},
   "outputs": [],
   "source": [
    "#62 WAP to check whether the given number is string or not:\n",
    "st='234'\n",
    "for i in st:\n",
    "    if i is str:\n",
    "        print('string')"
   ]
  },
  {
   "cell_type": "code",
   "execution_count": 64,
   "metadata": {},
   "outputs": [
    {
     "name": "stdout",
     "output_type": "stream",
     "text": [
      "eoo123aii\n"
     ]
    }
   ],
   "source": [
    "#63 I/p: ‘hello world 123 haii’\n",
    "    #o/p:’eoo123aii’\n",
    "st='hello world 123 haii'\n",
    "r=''\n",
    "for i in st:\n",
    "    if i in \"aeiouAEIOU\":\n",
    "        r+=i\n",
    "    else:\n",
    "        if '0'<=i<='9':\n",
    "            r+=i\n",
    "print(r)"
   ]
  },
  {
   "cell_type": "code",
   "execution_count": 5,
   "metadata": {},
   "outputs": [
    {
     "name": "stdout",
     "output_type": "stream",
     "text": [
      "eo o 123 aii\n"
     ]
    }
   ],
   "source": [
    "#64 I/p: ‘hello world 123 haii’\n",
    "#o/p:’eo o 123 aii’\n",
    "st='hello world 123 haii'\n",
    "r=''\n",
    "for i in st:\n",
    "    if i in \"aeiouAEIOU\":\n",
    "        r+=i\n",
    "    else:\n",
    "        if '0'<=i<='9':\n",
    "            r+=i\n",
    "        else:\n",
    "            if ' ' in i:\n",
    "                r+=' '\n",
    "print(r)"
   ]
  },
  {
   "cell_type": "code",
   "execution_count": 2,
   "metadata": {},
   "outputs": [
    {
     "name": "stdout",
     "output_type": "stream",
     "text": [
      "eo o  aii\n"
     ]
    }
   ],
   "source": [
    "#65 I/p: ‘hello world 123 haii’\n",
    "    #o/p:’eo o aii\n",
    "st='hello world 123 haii'\n",
    "r=''\n",
    "for i in st:\n",
    "    if i in 'aeiouAEIOU':\n",
    "        r+=i\n",
    "    else:\n",
    "        if ' ' in i:\n",
    "            r+=' '\n",
    "print(r)"
   ]
  },
  {
   "cell_type": "code",
   "execution_count": 23,
   "metadata": {},
   "outputs": [
    {
     "name": "stdout",
     "output_type": "stream",
     "text": [
      "hllwrldh\n"
     ]
    }
   ],
   "source": [
    "#66 I/p: ‘hello world 123 haii’\n",
    "    #o/p:’hll world haii’\n",
    "st='hello world 123 haii'\n",
    "r=''\n",
    "n=2\n",
    "for i in st:\n",
    "    if i not in 'aeiouAEIOU' and ('a'<=i<='z' or 'A'<=i<='Z'):\n",
    "        r+=i\n",
    "    \n",
    "\n",
    "        \n",
    "print(r)"
   ]
  },
  {
   "cell_type": "code",
   "execution_count": 16,
   "metadata": {},
   "outputs": [
    {
     "name": "stdout",
     "output_type": "stream",
     "text": [
      "hll wrld\n",
      "eoo\n"
     ]
    }
   ],
   "source": [
    "#67 i/p:’hello world’\n",
    "    #o/p:’hll wrld’\n",
    "    #o/p:’eoo’\n",
    "st='hello world'\n",
    "v=''\n",
    "c=''\n",
    "for i in st:\n",
    "    if i in \"aeiouAEIOU\":\n",
    "        v+=i\n",
    "    else:\n",
    "        c+=i\n",
    "print(c)\n",
    "print(v)\n"
   ]
  },
  {
   "cell_type": "code",
   "execution_count": 22,
   "metadata": {},
   "outputs": [
    {
     "name": "stdout",
     "output_type": "stream",
     "text": [
      "hllwrld\n",
      "eoo\n",
      "12344\n"
     ]
    }
   ],
   "source": [
    "#68 i/p:’12hello3 4world4’\n",
    "    #o/p:’hll wrld’\n",
    "    #o/p:’eoo’\n",
    "    #o/p:’12344’\n",
    "st='12hello3 4world4'\n",
    "c=''\n",
    "v=''\n",
    "n=''\n",
    "for i in st:\n",
    "    if i in \"aeiouAEIOU\":\n",
    "        v+=i\n",
    "    else:\n",
    "        if i not in \"aeiouAEIOU\" and ('a'<=i<='z' or 'A'<=i<='Z'):\n",
    "            c+=i\n",
    "    if '0'<=i<='9':\n",
    "        n+=i\n",
    "print(c)\n",
    "print(v)\n",
    "print(n)\n"
   ]
  },
  {
   "cell_type": "code",
   "execution_count": 25,
   "metadata": {},
   "outputs": [
    {
     "name": "stdout",
     "output_type": "stream",
     "text": [
      "hllwrld\n",
      "eoo\n",
      "12344\n",
      "(*$ $#*)\n"
     ]
    }
   ],
   "source": [
    "#69 i/p:’(*12hello3$ $4#world4*)’\n",
    "    #o/p:’hllwrld’\n",
    "    #o/p:’eoo’\n",
    "    #o/p:’12344’\n",
    "    #o/p:’(*$ $#*\n",
    "st='(*12hello3$ $4#world4*)'\n",
    "sp=''\n",
    "v=''\n",
    "c=''\n",
    "n=''\n",
    "for i in st:\n",
    "    if i not in \"aeiouAEIOU\" and('a'<=i<='z' or 'A'<=i<='Z'):\n",
    "        c+=i\n",
    "    if i in \"aieouAEIOU\":\n",
    "        v+=i\n",
    "    if '0'<=i<='9':\n",
    "        n+=i\n",
    "    if not('a'<=i<='z' or 'A'<=i<='Z' or '0'<=i<='9'):\n",
    "        sp+=i\n",
    "print(c)\n",
    "print(v)\n",
    "print(n)\n",
    "print(sp)"
   ]
  },
  {
   "cell_type": "code",
   "execution_count": 34,
   "metadata": {},
   "outputs": [
    {
     "name": "stdout",
     "output_type": "stream",
     "text": [
      ")*#$ $* 44321 ooe dlrwllh\n"
     ]
    }
   ],
   "source": [
    "#70 i/p: ’(*12hello3$ $4#world4*)’\n",
    "#o/p: ')*#$ $*(,44321,ooe,dlrwllh\n",
    "st='(*12hello3$ $4#world4*)'\n",
    "sp=''\n",
    "v=''\n",
    "c=''\n",
    "n=''\n",
    "for i in range(-1,-len(st),-1):\n",
    "    if st[i] not in \"aeiouAEIOU\" and('a'<=st[i]<='z' or 'A'<=st[i]<='Z'):\n",
    "        c+=st[i]\n",
    "    if st[i] in \"aieouAEIOU\":\n",
    "        v+=st[i]\n",
    "    if '0'<=st[i]<='9':\n",
    "        n+=st[i]\n",
    "    if not('a'<=st[i]<='z' or 'A'<=st[i]<='Z' or '0'<=st[i]<='9'):\n",
    "        sp+=st[i]\n",
    "print(sp,n,v,c)"
   ]
  },
  {
   "cell_type": "code",
   "execution_count": 2,
   "metadata": {},
   "outputs": [
    {
     "name": "stdout",
     "output_type": "stream",
     "text": [
      "hllwrld eoo 12344 (*$ $#*) "
     ]
    }
   ],
   "source": [
    "#71 i/p:’(*12hello3$ $4#world4*)’\n",
    "    #o/p:’hllwrld,eoo,12344,(*$ $#*)’\n",
    "st='(*12hello3$ $4#world4*)'\n",
    "sp=''\n",
    "v=''\n",
    "c=''\n",
    "n=''\n",
    "for i in st:\n",
    "    if i in \"aeiouAEIOU\":\n",
    "        v+=i\n",
    "    if i not in \"aeiouAEIOU\" and 'a'<=i<='z' or 'A'<=i<='Z':\n",
    "        c+=i\n",
    "    if '0'<=i<'9':\n",
    "        n+=i\n",
    "    if not('a'<=i<='z' or 'A'<=i<='Z' or '0'<=i<='9'):\n",
    "        sp+=i\n",
    "print(c,v,n,sp)"
   ]
  },
  {
   "cell_type": "code",
   "execution_count": 3,
   "metadata": {},
   "outputs": [
    {
     "name": "stdout",
     "output_type": "stream",
     "text": [
      "hllwrld eoo 44321 )*#$ $*(\n"
     ]
    }
   ],
   "source": [
    "#72 i/p: ’(*12hello3$ $4#world4*)’\n",
    "#o/p:’,hllwrld,)*#$ $*(’,eoo,44321’\n",
    "st='(*12hello3$ $4#world4*)'\n",
    "sp=''\n",
    "v=''\n",
    "c=''\n",
    "n=''\n",
    "for i in st:\n",
    "    if i in \"aeiouAEIOU\":\n",
    "        v+=i\n",
    "    if i not in \"aeiouAEIOU\" and 'a'<=i<='z' or 'A'<=i<='Z':\n",
    "        c+=i\n",
    "    if '0'<=i<'9':\n",
    "        n+=i\n",
    "    if not('a'<=i<='z' or 'A'<=i<='Z' or '0'<=i<='9'):\n",
    "        sp+=i\n",
    "print(c,v,n[::-1],sp[::-1])"
   ]
  },
  {
   "cell_type": "code",
   "execution_count": 18,
   "metadata": {},
   "outputs": [
    {
     "name": "stdout",
     "output_type": "stream",
     "text": [
      ")*#$ $*( 44321 ooe dlrwllh\n"
     ]
    }
   ],
   "source": [
    "#73 i/p: ’(*12hello3$ $4#world4*)’\n",
    "#o/p: ')*#$ $*(,44321,ooe,dlrwllh'\n",
    "st='(*12hello3$ $4#world4*)'\n",
    "res=''\n",
    "sp=''\n",
    "v=''\n",
    "c=''\n",
    "n=''\n",
    "for i in st:\n",
    "    if i in \"aeiouAEIOU\":\n",
    "        v+=i\n",
    "    if i not in \"aeiouAEIOU\" and 'a'<=i<='z' or 'A'<=i<='Z':\n",
    "        c+=i\n",
    "    if '0'<=i<'9':\n",
    "        n+=i\n",
    "    if not('a'<=i<='z' or 'A'<=i<='Z' or '0'<=i<='9'):\n",
    "        sp+=i    \n",
    "print(sp[::-1],n[::-1],v[::-1],c[::-1])"
   ]
  },
  {
   "cell_type": "code",
   "execution_count": 23,
   "metadata": {},
   "outputs": [
    {
     "name": "stdout",
     "output_type": "stream",
     "text": [
      "dlrwllh )*#$ $*( ooe 44321\n"
     ]
    }
   ],
   "source": [
    "#74 i/p: ’(*12hello3$ $4#world4*)’\n",
    "#o/p:’dlrwllh)*#$ $*(ooe44321’\n",
    "st=\"(*12hello3$ $4#world4*)\"\n",
    "res=''\n",
    "sp=''\n",
    "n=''\n",
    "v=''\n",
    "c=''\n",
    "for i in st:\n",
    "    if i in \"aeiouAEIOU\":\n",
    "        v+=i\n",
    "    if i not in \"aeiouAEIOU\" and 'a'<=i<='z' or 'A'<=i<='Z':\n",
    "        c+=i\n",
    "    if not ('a'<=i<='z' or 'A'<=i<='Z' or '0'<=i<='9'):\n",
    "        sp+=i\n",
    "    if '0'<=i<='9':\n",
    "        n+=i\n",
    "print(c[::-1],sp[::-1],v[::-1],n[::-1])"
   ]
  },
  {
   "cell_type": "code",
   "execution_count": 4,
   "metadata": {},
   "outputs": [
    {
     "ename": "TypeError",
     "evalue": "range expected at least 1 argument, got 0",
     "output_type": "error",
     "traceback": [
      "\u001b[1;31m---------------------------------------------------------------------------\u001b[0m",
      "\u001b[1;31mTypeError\u001b[0m                                 Traceback (most recent call last)",
      "\u001b[1;32mc:\\PC\\PYTHON\\While&ForPrograms.ipynb Cell 78\u001b[0m line \u001b[0;36m5\n\u001b[0;32m      <a href='vscode-notebook-cell:/c%3A/PC/PYTHON/While%26ForPrograms.ipynb#Y140sZmlsZQ%3D%3D?line=2'>3</a>\u001b[0m st\u001b[39m=\u001b[39m\u001b[39m'\u001b[39m\u001b[39mHELLOWORLD\u001b[39m\u001b[39m'\u001b[39m\n\u001b[0;32m      <a href='vscode-notebook-cell:/c%3A/PC/PYTHON/While%26ForPrograms.ipynb#Y140sZmlsZQ%3D%3D?line=3'>4</a>\u001b[0m r\u001b[39m=\u001b[39m\u001b[39m'\u001b[39m\u001b[39m'\u001b[39m\n\u001b[1;32m----> <a href='vscode-notebook-cell:/c%3A/PC/PYTHON/While%26ForPrograms.ipynb#Y140sZmlsZQ%3D%3D?line=4'>5</a>\u001b[0m \u001b[39mfor\u001b[39;00m i \u001b[39min\u001b[39;00m \u001b[39mrange\u001b[39;49m():\n\u001b[0;32m      <a href='vscode-notebook-cell:/c%3A/PC/PYTHON/While%26ForPrograms.ipynb#Y140sZmlsZQ%3D%3D?line=5'>6</a>\u001b[0m     \u001b[39mif\u001b[39;00m i \u001b[39mnot\u001b[39;00m \u001b[39min\u001b[39;00m \u001b[39m'\u001b[39m\u001b[39maieouAEIOU\u001b[39m\u001b[39m'\u001b[39m:\n\u001b[0;32m      <a href='vscode-notebook-cell:/c%3A/PC/PYTHON/While%26ForPrograms.ipynb#Y140sZmlsZQ%3D%3D?line=6'>7</a>\u001b[0m         r\u001b[39m+\u001b[39m\u001b[39m=\u001b[39m\u001b[39mchr\u001b[39m(\u001b[39mord\u001b[39m(i)\u001b[39m+\u001b[39m\u001b[39m32\u001b[39m)\n",
      "\u001b[1;31mTypeError\u001b[0m: range expected at least 1 argument, got 0"
     ]
    }
   ],
   "source": [
    "#75 I/p:’HELLOWORLD’\n",
    "    #o/p:’h$ll*w*rld’\n",
    "st='HELLOWORLD'\n",
    "r=''\n",
    "for i in range():\n",
    "    if i not in 'aieouAEIOU':\n",
    "        r+=chr(ord(i)+32)\n",
    "    else:\n",
    "        r+='*'\n",
    "print(r)"
   ]
  },
  {
   "cell_type": "code",
   "execution_count": 1,
   "metadata": {},
   "outputs": [
    {
     "name": "stdout",
     "output_type": "stream",
     "text": [
      "21hllwrld\n"
     ]
    }
   ],
   "source": [
    "#76 #I/p:’123HELLO WORLD456’\n",
    "    #o/p:’hllwrld21’\n",
    "st='123HELLO WORLD456'\n",
    "r=''\n",
    "for i in st:\n",
    "    if i not in 'aeiouAEIOU' and ('a'<=i<='z' or 'A'<=i<='Z'):\n",
    "        r+=chr(ord(i)+32)\n",
    "    if '0'<=i<='9':\n",
    "        if str(2)>=i:\n",
    "            r=i+r\n",
    "print(r)\n",
    "        "
   ]
  },
  {
   "cell_type": "code",
   "execution_count": 15,
   "metadata": {},
   "outputs": [
    {
     "name": "stdout",
     "output_type": "stream",
     "text": [
      "123hEllO wOrld456\n"
     ]
    }
   ],
   "source": [
    "#77 #I/p:’123HELLO WORLD456’\n",
    "    #o/p:’123hEllO wOrld456’\n",
    "st='123HELLO WORLD456'\n",
    "r=''\n",
    "for i in st:\n",
    "    if i not in 'aeiouAEIOU'and ('a'<=i<='z' or 'A'<=i<='Z') :\n",
    "        r+=chr(ord(i)+32)\n",
    "    else:\n",
    "        r+=i\n",
    "print(r)"
   ]
  },
  {
   "cell_type": "code",
   "execution_count": 29,
   "metadata": {},
   "outputs": [
    {
     "name": "stdout",
     "output_type": "stream",
     "text": [
      "654321hEllO wOrld\n"
     ]
    }
   ],
   "source": [
    "#78 #I/p:’123HELLO WORLD456’\n",
    "    #o/p:’321hEllO wOrld654’\n",
    "st='123HELLO WORLD456'\n",
    "r=''\n",
    "for i in st:\n",
    "    if i not in 'aeiouAEIOU'and ('a'<=i<='z' or 'A'<=i<='Z') :\n",
    "        r+=chr(ord(i)+32)\n",
    "    if i in 'aeiouAEIOU' and ('a'<=i<='z' or 'A'<=i<='Z'):\n",
    "        r+=i\n",
    "    if not ('a'<=i<='z' or 'A'<=i<='Z' or '0'<=i<='9'):\n",
    "        r+=i\n",
    "    if '0'<=i<='9' and i<='3':\n",
    "        r=i+r\n",
    "    else:\n",
    "        if'4'<=i<='9' and i<='6':\n",
    "            r=i+r\n",
    "print(r)"
   ]
  },
  {
   "cell_type": "code",
   "execution_count": 35,
   "metadata": {},
   "outputs": [
    {
     "name": "stdout",
     "output_type": "stream",
     "text": [
      "123*E**O *O***456\n"
     ]
    }
   ],
   "source": [
    "#79 #I/p:’123HELLO WORLD456’\n",
    "    #o/p:’321*E**O *O***654’\n",
    "st='123HELLO WORLD456'\n",
    "r=''\n",
    "for i in st:\n",
    "    if i not in 'AEIOU' and 'A'<=i<='Z':\n",
    "        r+='*'\n",
    "    else:\n",
    "        r+=i\n",
    "print(r)"
   ]
  },
  {
   "cell_type": "code",
   "execution_count": 36,
   "metadata": {},
   "outputs": [
    {
     "name": "stdout",
     "output_type": "stream",
     "text": [
      "123*E**O *O***456\n"
     ]
    }
   ],
   "source": [
    "#80 #I/p:’123HELLO WORLD456’\n",
    "    #o/p:’123*E**O *O***456’\n",
    "st='123HELLO WORLD456'\n",
    "r=''\n",
    "for i in st:\n",
    "    if i not in 'AEIOU' and 'A'<=i<='Z':\n",
    "        r+='*'\n",
    "    else:\n",
    "        r+=i\n",
    "print(r)"
   ]
  },
  {
   "cell_type": "code",
   "execution_count": 40,
   "metadata": {},
   "outputs": [
    {
     "name": "stdout",
     "output_type": "stream",
     "text": [
      "h$ll*w*rld\n"
     ]
    }
   ],
   "source": [
    "#81 #I/p:’HELLOWORLD’\n",
    "    #o/p:’h$ll*w*rld’\n",
    "st='HELLOWORLD'\n",
    "r=''\n",
    "for i in st:\n",
    "    if i in 'AIEOU' and 'A'<=i<='Z':\n",
    "        if i=='E':\n",
    "            r+='$'\n",
    "        if i=='O':\n",
    "            r+='*'\n",
    "    else: \n",
    "        if i not in 'AEIOU' and 'A'<=i<='Z':\n",
    "            r+=chr(ord(i)+32)\n",
    "print(r)"
   ]
  },
  {
   "cell_type": "code",
   "execution_count": 90,
   "metadata": {},
   "outputs": [
    {
     "name": "stdout",
     "output_type": "stream",
     "text": [
      "axbyczwop\n"
     ]
    }
   ],
   "source": [
    "#82 to 85 i/p: ‘abc’\n",
    "    #i/p: ‘xyz’\n",
    "    #o/p:’axbycz’\n",
    "a='abc'\n",
    "b='xyzwop'\n",
    "r=''\n",
    "if len(a)>len(b):\n",
    "    for i in range(len(a)):\n",
    "        if i<len(a):\n",
    "            r+=a[i]\n",
    "        if i<len(b):\n",
    "            r+=b[i]\n",
    "if len(b)>len(a):\n",
    "    for i in range(len(b)):\n",
    "        if i<len(a):\n",
    "            r+=a[i]\n",
    "        if i<len(b):\n",
    "            r+=b[i]\n",
    "print(r)"
   ]
  },
  {
   "cell_type": "code",
   "execution_count": 77,
   "metadata": {},
   "outputs": [
    {
     "name": "stdout",
     "output_type": "stream",
     "text": [
      "axbyczwop\n"
     ]
    }
   ],
   "source": [
    "#82 to 85 another way:\n",
    "input_str1 = 'abc'\n",
    "input_str2 = 'xyz'\n",
    "output_str = ''\n",
    "\n",
    "# Determine the length of the longer input string\n",
    "max_len = max(len(input_str1), len(input_str2))\n",
    "\n",
    "# Interleave characters from both input strings\n",
    "for i in range(max_len):\n",
    "    if i < len(input_str1):\n",
    "        output_str += input_str1[i]\n",
    "    if i < len(input_str2):\n",
    "        output_str += input_str2[i]\n",
    "\n",
    "print(output_str)\n"
   ]
  },
  {
   "cell_type": "code",
   "execution_count": null,
   "metadata": {},
   "outputs": [],
   "source": []
  }
 ],
 "metadata": {
  "kernelspec": {
   "display_name": "Python 3",
   "language": "python",
   "name": "python3"
  },
  "language_info": {
   "codemirror_mode": {
    "name": "ipython",
    "version": 3
   },
   "file_extension": ".py",
   "mimetype": "text/x-python",
   "name": "python",
   "nbconvert_exporter": "python",
   "pygments_lexer": "ipython3",
   "version": "3.12.0"
  },
  "orig_nbformat": 4
 },
 "nbformat": 4,
 "nbformat_minor": 2
}
